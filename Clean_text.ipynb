{
  "nbformat": 4,
  "nbformat_minor": 0,
  "metadata": {
    "colab": {
      "name": "Clean text.ipynb",
      "provenance": []
    },
    "kernelspec": {
      "name": "python3",
      "display_name": "Python 3"
    }
  },
  "cells": [
    {
      "cell_type": "code",
      "metadata": {
        "id": "grPdUm3W6ZWS",
        "colab": {
          "base_uri": "https://localhost:8080/"
        },
        "outputId": "0297bfa1-cbff-48cd-b272-f38a162b180c"
      },
      "source": [
        "pip install clean-text[gpl]"
      ],
      "execution_count": null,
      "outputs": [
        {
          "output_type": "stream",
          "text": [
            "Requirement already satisfied: clean-text[gpl] in /usr/local/lib/python3.6/dist-packages (0.3.0)\n",
            "Requirement already satisfied: emoji in /usr/local/lib/python3.6/dist-packages (from clean-text[gpl]) (0.6.0)\n",
            "Requirement already satisfied: ftfy<6.0,>=5.8 in /usr/local/lib/python3.6/dist-packages (from clean-text[gpl]) (5.8)\n",
            "Requirement already satisfied: unidecode<2.0.0,>=1.1.1; extra == \"gpl\" in /usr/local/lib/python3.6/dist-packages (from clean-text[gpl]) (1.1.1)\n",
            "Requirement already satisfied: wcwidth in /usr/local/lib/python3.6/dist-packages (from ftfy<6.0,>=5.8->clean-text[gpl]) (0.2.5)\n"
          ],
          "name": "stdout"
        }
      ]
    },
    {
      "cell_type": "code",
      "metadata": {
        "id": "WdVcvtLg7IvM"
      },
      "source": [
        "from cleantext import clean"
      ],
      "execution_count": null,
      "outputs": []
    },
    {
      "cell_type": "code",
      "metadata": {
        "id": "hcXXRGTawq5-"
      },
      "source": [
        "import string \n",
        " \n",
        "# Open the file in read mode \n",
        "text = open(\"train.en\", \"r\") \n",
        "for line in text:\n",
        "  x=clean(line,\n",
        "    fix_unicode=True,               # fix various unicode errors\n",
        "    to_ascii=True,                  # transliterate to closest ASCII representation\n",
        "    lower=True,                     # lowercase text\n",
        "    no_line_breaks=False,           # fully strip line breaks as opposed to only normalizing them\n",
        "    no_urls=False,                  # replace all URLs with a special token\n",
        "    no_emails=False,                # replace all email addresses with a special token\n",
        "    no_phone_numbers=False,         # replace all phone numbers with a special token\n",
        "    no_numbers=False,               # replace all numbers with a special token\n",
        "    no_digits=False,                # replace all digits with a special token\n",
        "    no_currency_symbols=False,      # replace all currency symbols with a special token\n",
        "    no_punct=True,              # remove punctuations\n",
        "    replace_with_punct=\"\",          # instead of removing punctuations you may replace them\n",
        "    replace_with_url=\"<URL>\",\n",
        "    replace_with_email=\"<EMAIL>\",\n",
        "    replace_with_phone_number=\"<PHONE>\",\n",
        "    replace_with_number=\"<NUMBER>\",\n",
        "    replace_with_digit=\"0\",\n",
        "    replace_with_currency_symbol=\"<CUR>\",\n",
        "    lang=\"en\")\n",
        "  with open('train.en.cln', 'a') as g:\n",
        "        print(x, file=g)\n",
        "                   \n",
        "  \n"
      ],
      "execution_count": null,
      "outputs": []
    },
    {
      "cell_type": "code",
      "source": [
        ""
      ],
      "metadata": {
        "id": "d3Q_aRWLajR-"
      },
      "execution_count": null,
      "outputs": []
    }
  ]
}